{
 "cells": [
  {
   "cell_type": "code",
   "execution_count": 1,
   "id": "5abe39c3-82df-480c-ac66-555442ff2de3",
   "metadata": {},
   "outputs": [],
   "source": [
    "#Explain the use of the following operators using an example:"
   ]
  },
  {
   "cell_type": "code",
   "execution_count": 3,
   "id": "4f8bbb41-0cbe-420a-bb81-eb202a1f7c97",
   "metadata": {},
   "outputs": [],
   "source": [
    "# / is a Divison operator"
   ]
  },
  {
   "cell_type": "code",
   "execution_count": 4,
   "id": "1e943bee-52a6-4c03-b0d2-42d9c82f6c88",
   "metadata": {},
   "outputs": [],
   "source": [
    "a = 50/2"
   ]
  },
  {
   "cell_type": "code",
   "execution_count": 5,
   "id": "2c4e5da6-c345-4495-a703-43ea9e517c1f",
   "metadata": {},
   "outputs": [
    {
     "data": {
      "text/plain": [
       "25.0"
      ]
     },
     "execution_count": 5,
     "metadata": {},
     "output_type": "execute_result"
    }
   ],
   "source": [
    "a"
   ]
  },
  {
   "cell_type": "code",
   "execution_count": 14,
   "id": "59b2a49e-31e4-434a-a779-f0595e262fb2",
   "metadata": {},
   "outputs": [],
   "source": [
    "# % is a modulus operator, it gives the remainder of the mathematics problem in return"
   ]
  },
  {
   "cell_type": "code",
   "execution_count": 7,
   "id": "ba801ad0-5f82-40c8-859a-e13699c343e6",
   "metadata": {},
   "outputs": [],
   "source": [
    "b = 100%6"
   ]
  },
  {
   "cell_type": "code",
   "execution_count": 8,
   "id": "fd620940-b90f-4bee-8d80-fea8c82708d5",
   "metadata": {},
   "outputs": [
    {
     "data": {
      "text/plain": [
       "4"
      ]
     },
     "execution_count": 8,
     "metadata": {},
     "output_type": "execute_result"
    }
   ],
   "source": [
    "b"
   ]
  },
  {
   "cell_type": "code",
   "execution_count": 9,
   "id": "620bae49-029c-4ff7-8456-bedb5661484e",
   "metadata": {},
   "outputs": [],
   "source": [
    "# // is floor division operator, it gives the whole number on floor in return"
   ]
  },
  {
   "cell_type": "code",
   "execution_count": 12,
   "id": "ca41cdac-b08a-4301-ba00-252182ef7355",
   "metadata": {},
   "outputs": [],
   "source": [
    "c = 45//8"
   ]
  },
  {
   "cell_type": "code",
   "execution_count": 13,
   "id": "a63a5abf-da90-493f-bd5e-e811e7b42601",
   "metadata": {},
   "outputs": [
    {
     "data": {
      "text/plain": [
       "5"
      ]
     },
     "execution_count": 13,
     "metadata": {},
     "output_type": "execute_result"
    }
   ],
   "source": [
    "c"
   ]
  },
  {
   "cell_type": "code",
   "execution_count": 16,
   "id": "8d397508-b46a-4936-9019-bb66098643f6",
   "metadata": {},
   "outputs": [],
   "source": [
    "# ** is Exponential Operator"
   ]
  },
  {
   "cell_type": "code",
   "execution_count": 17,
   "id": "bc3ba6fd-9e64-4cbe-a84b-f89c6eacdbef",
   "metadata": {},
   "outputs": [],
   "source": [
    "d = 4**4"
   ]
  },
  {
   "cell_type": "code",
   "execution_count": 18,
   "id": "0f4f85b9-eaeb-463d-9663-5df9f4cbe6e8",
   "metadata": {},
   "outputs": [
    {
     "data": {
      "text/plain": [
       "256"
      ]
     },
     "execution_count": 18,
     "metadata": {},
     "output_type": "execute_result"
    }
   ],
   "source": [
    "d"
   ]
  },
  {
   "cell_type": "code",
   "execution_count": null,
   "id": "aa2e7718-5c66-4008-a383-9bd614c8d6dd",
   "metadata": {},
   "outputs": [],
   "source": []
  }
 ],
 "metadata": {
  "kernelspec": {
   "display_name": "Python 3 (ipykernel)",
   "language": "python",
   "name": "python3"
  },
  "language_info": {
   "codemirror_mode": {
    "name": "ipython",
    "version": 3
   },
   "file_extension": ".py",
   "mimetype": "text/x-python",
   "name": "python",
   "nbconvert_exporter": "python",
   "pygments_lexer": "ipython3",
   "version": "3.10.8"
  }
 },
 "nbformat": 4,
 "nbformat_minor": 5
}
