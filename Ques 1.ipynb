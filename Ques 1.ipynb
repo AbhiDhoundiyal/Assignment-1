{
 "cells": [
  {
   "cell_type": "code",
   "execution_count": 1,
   "id": "b4bfda83-b875-4f55-b2bf-ec845e314e3d",
   "metadata": {},
   "outputs": [],
   "source": [
    "#Create one variable containing following type of data:"
   ]
  },
  {
   "cell_type": "code",
   "execution_count": 17,
   "id": "e0f3b05f-c429-441f-8df9-5cdfa112db02",
   "metadata": {},
   "outputs": [],
   "source": [
    "a = \"python\""
   ]
  },
  {
   "cell_type": "code",
   "execution_count": 19,
   "id": "7897e7bb-f206-4169-b8a9-65072f4c8500",
   "metadata": {},
   "outputs": [
    {
     "data": {
      "text/plain": [
       "str"
      ]
     },
     "execution_count": 19,
     "metadata": {},
     "output_type": "execute_result"
    }
   ],
   "source": [
    "type(a)"
   ]
  },
  {
   "cell_type": "code",
   "execution_count": 8,
   "id": "dd4bf313-5d48-4e1d-b9e0-49b1f5443b9c",
   "metadata": {},
   "outputs": [],
   "source": [
    "b = [1, 2, 3, \"Abhi\",'true',8.99, ]\n"
   ]
  },
  {
   "cell_type": "code",
   "execution_count": 20,
   "id": "19eb287b-8c73-4d86-958a-ff1e4fe01b9c",
   "metadata": {},
   "outputs": [
    {
     "data": {
      "text/plain": [
       "list"
      ]
     },
     "execution_count": 20,
     "metadata": {},
     "output_type": "execute_result"
    }
   ],
   "source": [
    "type(b)"
   ]
  },
  {
   "cell_type": "code",
   "execution_count": 6,
   "id": "048a39fc-54eb-4afa-8e9f-0a6e02a1828d",
   "metadata": {},
   "outputs": [],
   "source": [
    "c = 7.55"
   ]
  },
  {
   "cell_type": "code",
   "execution_count": 21,
   "id": "2fc25755-614d-4790-b5a0-31d71030cf83",
   "metadata": {},
   "outputs": [
    {
     "data": {
      "text/plain": [
       "float"
      ]
     },
     "execution_count": 21,
     "metadata": {},
     "output_type": "execute_result"
    }
   ],
   "source": [
    "type(c)"
   ]
  },
  {
   "cell_type": "code",
   "execution_count": 9,
   "id": "7f0c5a44-94e8-425e-ba2f-11258a48f4b7",
   "metadata": {},
   "outputs": [],
   "source": [
    "d = (2, 6, \"Ken\", \"PYTHON\", 8.99, 'false')\n"
   ]
  },
  {
   "cell_type": "code",
   "execution_count": 22,
   "id": "ab2de96c-b256-45c0-8ee4-6e3057484337",
   "metadata": {},
   "outputs": [
    {
     "data": {
      "text/plain": [
       "tuple"
      ]
     },
     "execution_count": 22,
     "metadata": {},
     "output_type": "execute_result"
    }
   ],
   "source": [
    "type(d)"
   ]
  },
  {
   "cell_type": "code",
   "execution_count": null,
   "id": "4bf7d604-5ec3-4ec0-a33e-3608ddd4c54d",
   "metadata": {},
   "outputs": [],
   "source": []
  }
 ],
 "metadata": {
  "kernelspec": {
   "display_name": "Python 3 (ipykernel)",
   "language": "python",
   "name": "python3"
  },
  "language_info": {
   "codemirror_mode": {
    "name": "ipython",
    "version": 3
   },
   "file_extension": ".py",
   "mimetype": "text/x-python",
   "name": "python",
   "nbconvert_exporter": "python",
   "pygments_lexer": "ipython3",
   "version": "3.10.8"
  }
 },
 "nbformat": 4,
 "nbformat_minor": 5
}
