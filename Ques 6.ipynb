{
 "cells": [
  {
   "cell_type": "code",
   "execution_count": 1,
   "id": "c89be61f-e20c-4b77-b167-f9afe126cb67",
   "metadata": {},
   "outputs": [],
   "source": [
    "#Create a list containing 25 int type data. Using for loop and if-else condition print if the element is divisible by 3 or not."
   ]
  },
  {
   "cell_type": "code",
   "execution_count": 13,
   "id": "be54e608-65bc-4b6a-99a3-9a6c2e554872",
   "metadata": {},
   "outputs": [
    {
     "data": {
      "text/plain": [
       "[0,\n",
       " 1,\n",
       " 2,\n",
       " 3,\n",
       " 4,\n",
       " 5,\n",
       " 6,\n",
       " 7,\n",
       " 8,\n",
       " 9,\n",
       " 10,\n",
       " 11,\n",
       " 12,\n",
       " 13,\n",
       " 14,\n",
       " 15,\n",
       " 16,\n",
       " 17,\n",
       " 18,\n",
       " 19,\n",
       " 20,\n",
       " 21,\n",
       " 22,\n",
       " 23,\n",
       " 24]"
      ]
     },
     "execution_count": 13,
     "metadata": {},
     "output_type": "execute_result"
    }
   ],
   "source": [
    "list(range(25))"
   ]
  },
  {
   "cell_type": "code",
   "execution_count": 6,
   "id": "439fd229-e7a5-497e-87fe-830b3ad1626c",
   "metadata": {},
   "outputs": [],
   "source": [
    "l = list(range(25)) "
   ]
  },
  {
   "cell_type": "code",
   "execution_count": 7,
   "id": "18318261-c006-4937-9113-7143d007d911",
   "metadata": {},
   "outputs": [
    {
     "name": "stdout",
     "output_type": "stream",
     "text": [
      "0  is divisble\n",
      "1 is not divisible\n",
      "2 is not divisible\n",
      "3  is divisble\n",
      "4 is not divisible\n",
      "5 is not divisible\n",
      "6  is divisble\n",
      "7 is not divisible\n",
      "8 is not divisible\n",
      "9  is divisble\n",
      "10 is not divisible\n",
      "11 is not divisible\n",
      "12  is divisble\n",
      "13 is not divisible\n",
      "14 is not divisible\n",
      "15  is divisble\n",
      "16 is not divisible\n",
      "17 is not divisible\n",
      "18  is divisble\n",
      "19 is not divisible\n",
      "20 is not divisible\n",
      "21  is divisble\n",
      "22 is not divisible\n",
      "23 is not divisible\n",
      "24  is divisble\n"
     ]
    }
   ],
   "source": [
    "for i in l:\n",
    "    if i%3==0:\n",
    "        print(i, \" is divisble\")\n",
    "    else:\n",
    "        print(i, \"is not divisible\")\n",
    "    "
   ]
  },
  {
   "cell_type": "code",
   "execution_count": null,
   "id": "24cc1215-fe68-4351-a56d-ec2cb96b7b9a",
   "metadata": {},
   "outputs": [],
   "source": []
  }
 ],
 "metadata": {
  "kernelspec": {
   "display_name": "Python 3 (ipykernel)",
   "language": "python",
   "name": "python3"
  },
  "language_info": {
   "codemirror_mode": {
    "name": "ipython",
    "version": 3
   },
   "file_extension": ".py",
   "mimetype": "text/x-python",
   "name": "python",
   "nbconvert_exporter": "python",
   "pygments_lexer": "ipython3",
   "version": "3.10.8"
  }
 },
 "nbformat": 4,
 "nbformat_minor": 5
}
