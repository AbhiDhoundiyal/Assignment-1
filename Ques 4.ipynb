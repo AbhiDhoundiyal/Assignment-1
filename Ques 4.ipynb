{
 "cells": [
  {
   "cell_type": "code",
   "execution_count": 4,
   "id": "01dd0807-b9d2-4ef7-bd43-bbefed3e012e",
   "metadata": {},
   "outputs": [],
   "source": [
    "# Create a list of length 10 of your choice containing multiple types of data. Using for loop print the element and its data type."
   ]
  },
  {
   "cell_type": "code",
   "execution_count": 12,
   "id": "216c39d1-5c9d-4d1a-8ac3-85a3c4be5874",
   "metadata": {},
   "outputs": [],
   "source": [
    "x = [25, 98, \"Abhi\", 'True', 0.6, 75, 'Python', 220, 'False', '6.5']"
   ]
  },
  {
   "cell_type": "code",
   "execution_count": 16,
   "id": "b0cd4995-db66-441c-8d87-50597b90bae9",
   "metadata": {},
   "outputs": [
    {
     "name": "stdout",
     "output_type": "stream",
     "text": [
      "25\n",
      "98\n",
      "Abhi\n",
      "True\n",
      "0.6\n",
      "75\n",
      "Python\n",
      "220\n",
      "False\n",
      "6.5\n"
     ]
    }
   ],
   "source": [
    "for i in x:\n",
    "    print(i)\n",
    "       "
   ]
  },
  {
   "cell_type": "code",
   "execution_count": 22,
   "id": "761d2720-5fdf-4d16-bfe4-7f34716712b8",
   "metadata": {},
   "outputs": [
    {
     "name": "stdout",
     "output_type": "stream",
     "text": [
      "<class 'int'>\n",
      "<class 'int'>\n",
      "<class 'str'>\n",
      "<class 'str'>\n",
      "<class 'float'>\n",
      "<class 'int'>\n",
      "<class 'str'>\n",
      "<class 'int'>\n",
      "<class 'str'>\n",
      "<class 'str'>\n"
     ]
    }
   ],
   "source": [
    "for i in x:\n",
    "    print(type(i))\n",
    "       "
   ]
  },
  {
   "cell_type": "code",
   "execution_count": 23,
   "id": "b5aef8c4-b75f-41ac-87ae-3391edf4dbc3",
   "metadata": {},
   "outputs": [],
   "source": [
    "# for checking both elements and datatypes at once"
   ]
  },
  {
   "cell_type": "code",
   "execution_count": 25,
   "id": "d77c3286-c576-473a-b641-016a5347d75d",
   "metadata": {},
   "outputs": [
    {
     "name": "stdout",
     "output_type": "stream",
     "text": [
      "<class 'int'>\n",
      "25\n",
      "<class 'int'>\n",
      "98\n",
      "<class 'str'>\n",
      "Abhi\n",
      "<class 'str'>\n",
      "True\n",
      "<class 'float'>\n",
      "0.6\n",
      "<class 'int'>\n",
      "75\n",
      "<class 'str'>\n",
      "Python\n",
      "<class 'int'>\n",
      "220\n",
      "<class 'str'>\n",
      "False\n",
      "<class 'str'>\n",
      "6.5\n"
     ]
    }
   ],
   "source": [
    "for i in x:\n",
    "    print(type(i))\n",
    "    print(i)\n",
    "       "
   ]
  },
  {
   "cell_type": "code",
   "execution_count": null,
   "id": "d820cd4a-aa58-4be9-9758-6e9451cde58d",
   "metadata": {},
   "outputs": [],
   "source": []
  }
 ],
 "metadata": {
  "kernelspec": {
   "display_name": "Python 3 (ipykernel)",
   "language": "python",
   "name": "python3"
  },
  "language_info": {
   "codemirror_mode": {
    "name": "ipython",
    "version": 3
   },
   "file_extension": ".py",
   "mimetype": "text/x-python",
   "name": "python",
   "nbconvert_exporter": "python",
   "pygments_lexer": "ipython3",
   "version": "3.10.8"
  }
 },
 "nbformat": 4,
 "nbformat_minor": 5
}
