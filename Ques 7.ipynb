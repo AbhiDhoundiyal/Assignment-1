{
 "cells": [
  {
   "cell_type": "code",
   "execution_count": 1,
   "id": "d4a71605-5509-4ff2-a02e-9331bf37dc21",
   "metadata": {},
   "outputs": [],
   "source": [
    "#What do you understand about mutable and immutable data types? Give examples for both showing his property."
   ]
  },
  {
   "cell_type": "code",
   "execution_count": 12,
   "id": "86f2ab17-4bbf-472d-8c51-15a194131581",
   "metadata": {},
   "outputs": [
    {
     "data": {
      "text/plain": [
       "'Mutable data types are those data types that we can change its value without changing the identity'"
      ]
     },
     "execution_count": 12,
     "metadata": {},
     "output_type": "execute_result"
    }
   ],
   "source": [
    "'''Mutable data types are those data types that we can change its value without changing the identity'''"
   ]
  },
  {
   "cell_type": "code",
   "execution_count": 8,
   "id": "ed2538c1-8525-442b-ad87-32f0701a6980",
   "metadata": {},
   "outputs": [],
   "source": [
    "x = [65, 73, 0.7, 'Abhi', 'Python', True, ]"
   ]
  },
  {
   "cell_type": "code",
   "execution_count": 9,
   "id": "24ba0e40-8f50-4b79-a2af-ba65b3db8aea",
   "metadata": {},
   "outputs": [
    {
     "data": {
      "text/plain": [
       "True"
      ]
     },
     "execution_count": 9,
     "metadata": {},
     "output_type": "execute_result"
    }
   ],
   "source": [
    "x[5]"
   ]
  },
  {
   "cell_type": "code",
   "execution_count": 10,
   "id": "77ddf55a-13f1-417b-b004-82b00c4f651e",
   "metadata": {},
   "outputs": [],
   "source": [
    "x[5]= False"
   ]
  },
  {
   "cell_type": "code",
   "execution_count": 11,
   "id": "e51cbbbe-a268-40e1-8ab3-f839db33d412",
   "metadata": {},
   "outputs": [
    {
     "data": {
      "text/plain": [
       "False"
      ]
     },
     "execution_count": 11,
     "metadata": {},
     "output_type": "execute_result"
    }
   ],
   "source": [
    "x[5]"
   ]
  },
  {
   "cell_type": "code",
   "execution_count": 22,
   "id": "be57c36a-0ad8-4b98-b635-e8f43ac76763",
   "metadata": {},
   "outputs": [
    {
     "data": {
      "text/plain": [
       "\"Immutable data types are those data types that we can't changes it's value, for example a Tuple is a Immutable datatype\""
      ]
     },
     "execution_count": 22,
     "metadata": {},
     "output_type": "execute_result"
    }
   ],
   "source": [
    "\"\"\"Immutable data types are those data types that we can't changes it's value, for example a Tuple is a Immutable datatype\"\"\""
   ]
  },
  {
   "cell_type": "code",
   "execution_count": 14,
   "id": "42b2bd2c-7573-4556-9a25-6d714d33208b",
   "metadata": {},
   "outputs": [],
   "source": [
    "z = (65, 98, 100, True, 0.76, \"Python\", False, 5j)"
   ]
  },
  {
   "cell_type": "code",
   "execution_count": 15,
   "id": "4a299b02-def0-4d0f-be87-2baac014add8",
   "metadata": {},
   "outputs": [
    {
     "data": {
      "text/plain": [
       "tuple"
      ]
     },
     "execution_count": 15,
     "metadata": {},
     "output_type": "execute_result"
    }
   ],
   "source": [
    "type(z)"
   ]
  },
  {
   "cell_type": "code",
   "execution_count": 21,
   "id": "023aa682-5582-42ca-b838-b47b40956f2c",
   "metadata": {},
   "outputs": [
    {
     "ename": "TypeError",
     "evalue": "'tuple' object is not callable",
     "output_type": "error",
     "traceback": [
      "\u001b[0;31m---------------------------------------------------------------------------\u001b[0m",
      "\u001b[0;31mTypeError\u001b[0m                                 Traceback (most recent call last)",
      "Cell \u001b[0;32mIn[21], line 1\u001b[0m\n\u001b[0;32m----> 1\u001b[0m \u001b[43mz\u001b[49m\u001b[43m(\u001b[49m\u001b[38;5;241;43m3\u001b[39;49m\u001b[43m)\u001b[49m\u001b[38;5;241m==\u001b[39m \u001b[38;5;241m45\u001b[39m\n",
      "\u001b[0;31mTypeError\u001b[0m: 'tuple' object is not callable"
     ]
    }
   ],
   "source": [
    "z(3)= 45"
   ]
  },
  {
   "cell_type": "code",
   "execution_count": null,
   "id": "2d3b03f4-a8b5-4230-a14e-55bd212cfa7a",
   "metadata": {},
   "outputs": [],
   "source": []
  }
 ],
 "metadata": {
  "kernelspec": {
   "display_name": "Python 3 (ipykernel)",
   "language": "python",
   "name": "python3"
  },
  "language_info": {
   "codemirror_mode": {
    "name": "ipython",
    "version": 3
   },
   "file_extension": ".py",
   "mimetype": "text/x-python",
   "name": "python",
   "nbconvert_exporter": "python",
   "pygments_lexer": "ipython3",
   "version": "3.10.8"
  }
 },
 "nbformat": 4,
 "nbformat_minor": 5
}
